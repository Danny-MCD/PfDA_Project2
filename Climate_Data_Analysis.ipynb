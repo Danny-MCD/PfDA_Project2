{
 "cells": [
  {
   "cell_type": "markdown",
   "id": "fb1f1467",
   "metadata": {},
   "source": [
    "# Programming for Data Analysis - Project 2\n",
    "## An Analysis of Paleo to Present Climate Data"
   ]
  },
  {
   "cell_type": "markdown",
   "id": "3526fd81",
   "metadata": {},
   "source": [
    "Author: Daniel Mc Donagh\n",
    "\n",
    "Student ID: G00410864"
   ]
  },
  {
   "cell_type": "markdown",
   "id": "c59a3ae9",
   "metadata": {},
   "source": [
    "## Introduction"
   ]
  },
  {
   "cell_type": "markdown",
   "id": "c901a41c",
   "metadata": {},
   "source": [
    "Debate about earth climate change has been ongoing for decades. Scientific studies done by paleoclimatologists, where evidence gathered from sources such as ice cores taken in the antartic have been used to find evidence of past atmospheric conditions and determine temperatures of the climate at that time have greatly expanded our understanding of past climatic events. Hoever it has also showed trends in recent decades that are worrying at best. Our current rate of increase of carbon dioxide in the atmosphere since the industrial age has far surpassed anything seen on this planet in the last 800,000 years. This research will look to stitch together data taken from studies ."
   ]
  },
  {
   "cell_type": "markdown",
   "id": "df1d1721",
   "metadata": {},
   "source": []
  },
  {
   "cell_type": "markdown",
   "id": "48c61b9d",
   "metadata": {},
   "source": [
    "## Data Gathering\n"
   ]
  },
  {
   "cell_type": "markdown",
   "id": "7da949f8",
   "metadata": {},
   "source": [
    "### Carbon Dioxide\n",
    "The temperature and CO2 data were provided by Lecturer Brian McGinley in excel file format \"Composite of atmospheric CO2 records from Antarctic ice cores\". This was added into data folder as carbon_dioxide.xls . It is a composite of multiple data sets covering a range going back 800,000 years. (Bereiter et al., 2014)"
   ]
  },
  {
   "cell_type": "code",
   "execution_count": null,
   "id": "15fc6945",
   "metadata": {},
   "outputs": [],
   "source": []
  },
  {
   "cell_type": "code",
   "execution_count": 1,
   "id": "bd8ef961",
   "metadata": {},
   "outputs": [],
   "source": [
    "# Import libraries\n",
    "import pandas as pd\n",
    "import matplotlib.pyplot as plt\n",
    "import numpy as np"
   ]
  },
  {
   "cell_type": "markdown",
   "id": "c860e6d4",
   "metadata": {},
   "source": [
    "### Temperature \n",
    "The temperature dataset used was provided by Lecturer Brian McGinley in txt file format \"EPICA Dome C Ice Core 800KYr Deuterium Data and Temperature Estimate 2007.txt\" The temperature variable is a measure of deviation from the long term average taken from the last 1000 years. (Jouzel et al., 2007) "
   ]
  },
  {
   "cell_type": "code",
   "execution_count": 2,
   "id": "94890138",
   "metadata": {},
   "outputs": [
    {
     "name": "stdout",
     "output_type": "stream",
     "text": [
      "Bag             0\n",
      "ztop            0\n",
      "Age             0\n",
      "Deuterium      12\n",
      "Temperature    15\n",
      "dtype: int64\n"
     ]
    },
    {
     "data": {
      "text/html": [
       "<div>\n",
       "<style scoped>\n",
       "    .dataframe tbody tr th:only-of-type {\n",
       "        vertical-align: middle;\n",
       "    }\n",
       "\n",
       "    .dataframe tbody tr th {\n",
       "        vertical-align: top;\n",
       "    }\n",
       "\n",
       "    .dataframe thead th {\n",
       "        text-align: right;\n",
       "    }\n",
       "</style>\n",
       "<table border=\"1\" class=\"dataframe\">\n",
       "  <thead>\n",
       "    <tr style=\"text-align: right;\">\n",
       "      <th></th>\n",
       "      <th>Bag</th>\n",
       "      <th>ztop</th>\n",
       "      <th>Age</th>\n",
       "      <th>Deuterium</th>\n",
       "      <th>Temperature</th>\n",
       "    </tr>\n",
       "  </thead>\n",
       "  <tbody>\n",
       "    <tr>\n",
       "      <th>count</th>\n",
       "      <td>5800.000000</td>\n",
       "      <td>5800.000000</td>\n",
       "      <td>5800.000000</td>\n",
       "      <td>5788.000000</td>\n",
       "      <td>5785.000000</td>\n",
       "    </tr>\n",
       "    <tr>\n",
       "      <th>mean</th>\n",
       "      <td>2900.500000</td>\n",
       "      <td>1594.725000</td>\n",
       "      <td>190016.390617</td>\n",
       "      <td>-417.579610</td>\n",
       "      <td>-4.580228</td>\n",
       "    </tr>\n",
       "    <tr>\n",
       "      <th>std</th>\n",
       "      <td>1674.460112</td>\n",
       "      <td>920.953062</td>\n",
       "      <td>192546.207239</td>\n",
       "      <td>20.359332</td>\n",
       "      <td>3.446971</td>\n",
       "    </tr>\n",
       "    <tr>\n",
       "      <th>min</th>\n",
       "      <td>1.000000</td>\n",
       "      <td>0.000000</td>\n",
       "      <td>-50.000000</td>\n",
       "      <td>-449.500000</td>\n",
       "      <td>-10.580000</td>\n",
       "    </tr>\n",
       "    <tr>\n",
       "      <th>25%</th>\n",
       "      <td>1450.750000</td>\n",
       "      <td>797.362500</td>\n",
       "      <td>46330.569350</td>\n",
       "      <td>-432.500000</td>\n",
       "      <td>-7.450000</td>\n",
       "    </tr>\n",
       "    <tr>\n",
       "      <th>50%</th>\n",
       "      <td>2900.500000</td>\n",
       "      <td>1594.725000</td>\n",
       "      <td>121793.340000</td>\n",
       "      <td>-421.300000</td>\n",
       "      <td>-5.200000</td>\n",
       "    </tr>\n",
       "    <tr>\n",
       "      <th>75%</th>\n",
       "      <td>4350.250000</td>\n",
       "      <td>2392.087500</td>\n",
       "      <td>272456.740000</td>\n",
       "      <td>-403.200000</td>\n",
       "      <td>-1.820000</td>\n",
       "    </tr>\n",
       "    <tr>\n",
       "      <th>max</th>\n",
       "      <td>5800.000000</td>\n",
       "      <td>3189.450000</td>\n",
       "      <td>801662.000000</td>\n",
       "      <td>0.950000</td>\n",
       "      <td>5.460000</td>\n",
       "    </tr>\n",
       "  </tbody>\n",
       "</table>\n",
       "</div>"
      ],
      "text/plain": [
       "               Bag         ztop            Age    Deuterium  Temperature\n",
       "count  5800.000000  5800.000000    5800.000000  5788.000000  5785.000000\n",
       "mean   2900.500000  1594.725000  190016.390617  -417.579610    -4.580228\n",
       "std    1674.460112   920.953062  192546.207239    20.359332     3.446971\n",
       "min       1.000000     0.000000     -50.000000  -449.500000   -10.580000\n",
       "25%    1450.750000   797.362500   46330.569350  -432.500000    -7.450000\n",
       "50%    2900.500000  1594.725000  121793.340000  -421.300000    -5.200000\n",
       "75%    4350.250000  2392.087500  272456.740000  -403.200000    -1.820000\n",
       "max    5800.000000  3189.450000  801662.000000     0.950000     5.460000"
      ]
     },
     "execution_count": 2,
     "metadata": {},
     "output_type": "execute_result"
    }
   ],
   "source": [
    "# read in temperature from original source \"EPICA Dome C...\" txt file\" \n",
    "dfTemperature = pd.read_csv('data/EPICA Dome C Ice Core 800KYr Deuterium Data and Temperature Estimate 2007.txt', sep='\\s+', skiprows=91)\n",
    "dfTemperature.head()\n",
    "\n",
    "# check for Null entries\n",
    "print(dfTemperature.isnull().sum()) \n",
    "dfTemperature.describe()\n"
   ]
  },
  {
   "cell_type": "markdown",
   "id": "55fb3150",
   "metadata": {},
   "source": [
    "## References"
   ]
  },
  {
   "cell_type": "markdown",
   "id": "e6f8c58b",
   "metadata": {},
   "source": [
    "### Markdown"
   ]
  },
  {
   "cell_type": "markdown",
   "id": "d386489d",
   "metadata": {},
   "source": [
    "Stack overflow, 2023\n",
    "https://stackoverflow.com/questions/15155778/superscript-in-markdown-github-flavored/15156585#15156585\n"
   ]
  },
  {
   "cell_type": "markdown",
   "id": "3c8c7e62",
   "metadata": {},
   "source": [
    "Studylib, 2024\n",
    "https://studylib.es/doc/8825178/cheatsheet-markdown"
   ]
  },
  {
   "cell_type": "markdown",
   "id": "3ba14bd3",
   "metadata": {},
   "source": [
    "### Python"
   ]
  },
  {
   "cell_type": "markdown",
   "id": "769dd61a",
   "metadata": {},
   "source": [
    "### Data Sources"
   ]
  },
  {
   "cell_type": "markdown",
   "id": "7f3b6085",
   "metadata": {},
   "source": [
    "(Bereiter et al., 2014), Revision of the EPICA Dome C CO2 record from 800 to 600 kyr before present, Geophysical Research Letters, doi: 10.1002/2014GL061957.\n",
    "\n",
    "(Jouzel et al., 2007) Orbital and Millennial Antarctic Climate Variability over the Past 800,000 Years., Science, Vol. 317, No. 5839, pp.793-797, 10 August 2007."
   ]
  }
 ],
 "metadata": {
  "kernelspec": {
   "display_name": "Python 3 (ipykernel)",
   "language": "python",
   "name": "python3"
  },
  "language_info": {
   "codemirror_mode": {
    "name": "ipython",
    "version": 3
   },
   "file_extension": ".py",
   "mimetype": "text/x-python",
   "name": "python",
   "nbconvert_exporter": "python",
   "pygments_lexer": "ipython3",
   "version": "3.11.5"
  }
 },
 "nbformat": 4,
 "nbformat_minor": 5
}
