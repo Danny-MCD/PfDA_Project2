{
 "cells": [
  {
   "cell_type": "markdown",
   "id": "fb1f1467",
   "metadata": {},
   "source": [
    "# Programming for Data Analysis - Project 2\n",
    "## An Analysis of Paleo to Present Climate Data"
   ]
  },
  {
   "cell_type": "markdown",
   "id": "3526fd81",
   "metadata": {},
   "source": [
    "Author: Daniel Mc Donagh\n",
    "\n",
    "Student ID: G00410864"
   ]
  },
  {
   "cell_type": "markdown",
   "id": "c59a3ae9",
   "metadata": {},
   "source": [
    "## Introduction"
   ]
  },
  {
   "cell_type": "markdown",
   "id": "c901a41c",
   "metadata": {},
   "source": []
  },
  {
   "cell_type": "markdown",
   "id": "df1d1721",
   "metadata": {},
   "source": []
  },
  {
   "cell_type": "markdown",
   "id": "48c61b9d",
   "metadata": {},
   "source": []
  },
  {
   "cell_type": "markdown",
   "id": "55fb3150",
   "metadata": {},
   "source": [
    "## References"
   ]
  },
  {
   "cell_type": "markdown",
   "id": "e6f8c58b",
   "metadata": {},
   "source": [
    "### Markdown"
   ]
  },
  {
   "cell_type": "markdown",
   "id": "d386489d",
   "metadata": {},
   "source": [
    "Stack overflow, 2023\n",
    "https://stackoverflow.com/questions/15155778/superscript-in-markdown-github-flavored/15156585#15156585\n"
   ]
  },
  {
   "cell_type": "markdown",
   "id": "3c8c7e62",
   "metadata": {},
   "source": [
    "Studylib, 2024\n",
    "https://studylib.es/doc/8825178/cheatsheet-markdown"
   ]
  },
  {
   "cell_type": "markdown",
   "id": "3ba14bd3",
   "metadata": {},
   "source": []
  }
 ],
 "metadata": {
  "kernelspec": {
   "display_name": "Python 3 (ipykernel)",
   "language": "python",
   "name": "python3"
  },
  "language_info": {
   "codemirror_mode": {
    "name": "ipython",
    "version": 3
   },
   "file_extension": ".py",
   "mimetype": "text/x-python",
   "name": "python",
   "nbconvert_exporter": "python",
   "pygments_lexer": "ipython3",
   "version": "3.9.13"
  }
 },
 "nbformat": 4,
 "nbformat_minor": 5
}
